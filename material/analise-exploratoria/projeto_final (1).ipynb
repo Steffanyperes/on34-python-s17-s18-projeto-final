{
  "cells": [
    {
      "cell_type": "code",
      "execution_count": 1,
      "metadata": {
        "colab": {
          "base_uri": "https://localhost:8080/"
        },
        "id": "tQEEP10iJmZU",
        "outputId": "b075532b-ca5e-4d76-956d-c3a49d475466"
      },
      "outputs": [
        {
          "name": "stderr",
          "output_type": "stream",
          "text": [
            "Cloning into 'on34-python-s17-s18-projeto-final'...\n"
          ]
        }
      ],
      "source": [
        "!git clone https://github.com/Steffanyperes/on34-python-s17-s18-projeto-final.git"
      ]
    },
    {
      "cell_type": "code",
      "execution_count": 2,
      "metadata": {
        "colab": {
          "base_uri": "https://localhost:8080/"
        },
        "id": "GVlyPDVjVMxC",
        "outputId": "912b98ac-33e8-4439-ac97-57009140bbf5"
      },
      "outputs": [
        {
          "name": "stdout",
          "output_type": "stream",
          "text": [
            "c:\\Users\\user\\Downloads\\on34-python-s17-s18-projeto-final\\material\\analise-exploratoria\\on34-python-s17-s18-projeto-final\n"
          ]
        }
      ],
      "source": [
        "%cd on34-python-s17-s18-projeto-final"
      ]
    },
    {
      "cell_type": "markdown",
      "metadata": {
        "id": "VTAhmTUOODwm"
      },
      "source": [
        "# **Importação, tratamento e manipulação inicial dos dados:**\n",
        "Iniciamos nosso projeto realizando as importações necessárias. Aqui estamos trazendo bibliotecas que nos permitem manipular dados (pandas) e criar gráficos (matplotlib), além de conectar ao Google Drive para acessar os arquivos CSV com as denúncias."
      ]
    },
    {
      "cell_type": "code",
      "execution_count": 7,
      "metadata": {
        "id": "v3MPlZUJZt_Y"
      },
      "outputs": [
        {
          "ename": "ModuleNotFoundError",
          "evalue": "No module named 'matplotlib'",
          "output_type": "error",
          "traceback": [
            "\u001b[1;31m---------------------------------------------------------------------------\u001b[0m",
            "\u001b[1;31mModuleNotFoundError\u001b[0m                       Traceback (most recent call last)",
            "Cell \u001b[1;32mIn[7], line 1\u001b[0m\n\u001b[1;32m----> 1\u001b[0m \u001b[38;5;28;01mimport\u001b[39;00m \u001b[38;5;21;01mmatplotlib\u001b[39;00m \u001b[38;5;28;01mas\u001b[39;00m \u001b[38;5;21;01mplt\u001b[39;00m\n\u001b[0;32m      2\u001b[0m \u001b[38;5;28;01mimport\u001b[39;00m \u001b[38;5;21;01mmatplotlib\u001b[39;00m\u001b[38;5;21;01m.\u001b[39;00m\u001b[38;5;21;01mpyplot\u001b[39;00m \u001b[38;5;28;01mas\u001b[39;00m \u001b[38;5;21;01mplt\u001b[39;00m\n\u001b[0;32m      3\u001b[0m \u001b[38;5;28;01mimport\u001b[39;00m \u001b[38;5;21;01mpandas\u001b[39;00m \u001b[38;5;28;01mas\u001b[39;00m \u001b[38;5;21;01mpd\u001b[39;00m\n",
            "\u001b[1;31mModuleNotFoundError\u001b[0m: No module named 'matplotlib'"
          ]
        }
      ],
      "source": [
        "import matplotlib as plt\n",
        "import matplotlib.pyplot as plt\n",
        "import pandas as pd\n",
        "import re\n",
        "from google.colab import drive\n",
        "from google.colab import files\n"
      ]
    },
    {
      "cell_type": "markdown",
      "metadata": {
        "id": "IbfC_7r2OSQB"
      },
      "source": [
        "Montamos o Google Drive para acessar os arquivos de dados; Ao montar o Google Drive, nós garantimos acesso aos arquivos diretamente da nuvem, o que facilita o trabalho com grandes datasets. Nesse mesmo bloco de código nos preocupamos em definir os caminhos para cada arquivo CSV correspondente aos semestres de 2020 a 2023, uma vez que essa etapa organiza os arquivos que vamos utilizar, facilitando o carregamento futuro."
      ]
    },
    {
      "cell_type": "code",
      "execution_count": 4,
      "metadata": {
        "colab": {
          "base_uri": "https://localhost:8080/"
        },
        "id": "gAA9K-xrBPe1",
        "outputId": "c8ffaeb2-b120-40de-f786-2d977ff584fa"
      },
      "outputs": [
        {
          "ename": "NameError",
          "evalue": "name 'drive' is not defined",
          "output_type": "error",
          "traceback": [
            "\u001b[1;31m---------------------------------------------------------------------------\u001b[0m",
            "\u001b[1;31mNameError\u001b[0m                                 Traceback (most recent call last)",
            "Cell \u001b[1;32mIn[4], line 1\u001b[0m\n\u001b[1;32m----> 1\u001b[0m \u001b[43mdrive\u001b[49m\u001b[38;5;241m.\u001b[39mmount(\u001b[38;5;124m'\u001b[39m\u001b[38;5;124m/content/drive\u001b[39m\u001b[38;5;124m'\u001b[39m)\n\u001b[0;32m      3\u001b[0m caminho_2020_1 \u001b[38;5;241m=\u001b[39m \u001b[38;5;124m'\u001b[39m\u001b[38;5;124m/content/drive/MyDrive/Projeto_final_ON34/disque100-primeiro-semestre-2020.csv\u001b[39m\u001b[38;5;124m'\u001b[39m\n\u001b[0;32m      4\u001b[0m caminho_2020_2 \u001b[38;5;241m=\u001b[39m \u001b[38;5;124m'\u001b[39m\u001b[38;5;124m/content/drive/MyDrive/Projeto_final_ON34/disque100-segundo-semestre-2020.csv\u001b[39m\u001b[38;5;124m'\u001b[39m\n",
            "\u001b[1;31mNameError\u001b[0m: name 'drive' is not defined"
          ]
        }
      ],
      "source": [
        "drive.mount('/content/drive')\n",
        "\n",
        "caminho_2020_1 = '/content/drive/MyDrive/Projeto_final_ON34/disque100-primeiro-semestre-2020.csv'\n",
        "caminho_2020_2 = '/content/drive/MyDrive/Projeto_final_ON34/disque100-segundo-semestre-2020.csv'\n",
        "caminho_2021_1 = '/content/drive/MyDrive/Projeto_final_ON34/disque100-primeiro-semestre-2021.csv'\n",
        "caminho_2021_2 = '/content/drive/MyDrive/Projeto_final_ON34/disque100-segundo-semestre-2021.csv'\n",
        "caminho_2022_1 = '/content/drive/MyDrive/Projeto_final_ON34/disque100-primeiro-semestre-2022.csv'\n",
        "caminho_2022_2 = '/content/drive/MyDrive/Projeto_final_ON34/disque100-segundo-semestre-2022.csv'\n",
        "caminho_2023_1 = '/content/drive/MyDrive/Projeto_final_ON34/disque100-primeiro-semestre-2023 (1).csv'\n",
        "caminho_2023_2 = '/content/drive/MyDrive/Projeto_final_ON34/disque100-segundo-semestre-2023.csv'\n",
        "\n",
        "primeiro_semestre_2020 = pd.read_csv(caminho_2020_1, sep=';')\n",
        "segundo_semestre_2020 = pd.read_csv(caminho_2020_2, sep=';')\n",
        "primeiro_semestre_2021 = pd.read_csv(caminho_2021_1, sep=';')\n",
        "segundo_semestre_2021 = pd.read_csv(caminho_2021_2, sep=';')\n",
        "primeiro_semestre_2022 = pd.read_csv(caminho_2022_1, sep=';')\n",
        "segundo_semestre_2022 = pd.read_csv(caminho_2022_2, sep=';')\n",
        "primeiro_semestre_2023 = pd.read_csv(caminho_2023_1, sep=';')\n",
        "segundo_semestre_2023 = pd.read_csv(caminho_2023_2, sep=';')\n",
        "\n",
        "\n"
      ]
    },
    {
      "cell_type": "markdown",
      "metadata": {
        "id": "-_rW7SAS5T00"
      },
      "source": [
        " Inserimos uma coluna com o ano em cada dataset, facilitando a análise temporal; Aqui criamos uma nova coluna chamada 'ano' para sabermos de qual ano cada registro de denúncia pertence, o que nos ajudará a analisar a variação das denúncias ao longo do tempo."
      ]
    },
    {
      "cell_type": "code",
      "execution_count": 4,
      "metadata": {
        "id": "eWlzxWzyjT-3"
      },
      "outputs": [],
      "source": [
        "primeiro_semestre_2020['ano'] = 2020"
      ]
    },
    {
      "cell_type": "code",
      "execution_count": 5,
      "metadata": {
        "id": "J_VIXdmW1Fiq"
      },
      "outputs": [],
      "source": [
        "segundo_semestre_2020['ano'] = 2020"
      ]
    },
    {
      "cell_type": "code",
      "execution_count": 6,
      "metadata": {
        "id": "UvGXHJumm4wh"
      },
      "outputs": [],
      "source": [
        "primeiro_semestre_2021['ano'] = 2021\n"
      ]
    },
    {
      "cell_type": "code",
      "execution_count": 7,
      "metadata": {
        "id": "_9lQZVlSm9wX"
      },
      "outputs": [],
      "source": [
        "segundo_semestre_2021['ano'] = 2021\n"
      ]
    },
    {
      "cell_type": "code",
      "execution_count": 8,
      "metadata": {
        "id": "F4UCI0wdnCN3"
      },
      "outputs": [],
      "source": [
        "primeiro_semestre_2022['ano'] = 2022\n"
      ]
    },
    {
      "cell_type": "code",
      "execution_count": 9,
      "metadata": {
        "id": "mMiaOAVtnDuV"
      },
      "outputs": [],
      "source": [
        "segundo_semestre_2022['ano'] = 2022"
      ]
    },
    {
      "cell_type": "code",
      "execution_count": 10,
      "metadata": {
        "id": "gh81sVhEnHkB"
      },
      "outputs": [],
      "source": [
        "primeiro_semestre_2023['ano'] = 2023\n"
      ]
    },
    {
      "cell_type": "code",
      "execution_count": 11,
      "metadata": {
        "id": "Nq4VJ72DnI-p"
      },
      "outputs": [],
      "source": [
        "segundo_semestre_2023['ano'] = 2023"
      ]
    },
    {
      "cell_type": "markdown",
      "metadata": {
        "id": "7n5ividV5hrT"
      },
      "source": [
        "Para nos certificarmos de que os arquivos estão sendo carregados corretamentes e facilitar nossa análise, concatenamos os DataFrames de cada semestre, criando um dataset consolidado, com todas as denúncias entre 2020 e 2023."
      ]
    },
    {
      "cell_type": "code",
      "execution_count": 12,
      "metadata": {
        "colab": {
          "base_uri": "https://localhost:8080/"
        },
        "id": "CQb0AuflakoK",
        "outputId": "913c4caa-e390-439c-f314-ca7fa9339b3b"
      },
      "outputs": [
        {
          "data": {
            "text/plain": [
              "array([2020, 2021, 2022, 2023])"
            ]
          },
          "execution_count": 12,
          "metadata": {},
          "output_type": "execute_result"
        }
      ],
      "source": [
        "historico_denuncias_bruto =  pd.concat([primeiro_semestre_2020, segundo_semestre_2020, primeiro_semestre_2021, segundo_semestre_2021, primeiro_semestre_2022, segundo_semestre_2022, primeiro_semestre_2023, segundo_semestre_2023])\n",
        "historico_denuncias_bruto['ano'].unique()"
      ]
    },
    {
      "cell_type": "markdown",
      "metadata": {
        "id": "Jkmj0npmQupV"
      },
      "source": [
        "Já pensando na resposta da primeira pergunta, resolvemos verificar quais religiões estão sendo capturadas nos dados, para conferir se temos dados somente de vítimas de religiões de matriz afro, ou se precisamos filtrar mais."
      ]
    },
    {
      "cell_type": "code",
      "execution_count": 13,
      "metadata": {
        "colab": {
          "base_uri": "https://localhost:8080/"
        },
        "id": "kyUPgsNR2NZy",
        "outputId": "33f521e7-a5ea-430f-97a5-53e8c0456880"
      },
      "outputs": [
        {
          "data": {
            "text/plain": [
              "array([nan, 'N/D', 'CATÓLICA APOSTÓLICA ROMANA', 'ESPIRITISMO',\n",
              "       'EVANGELHO QUADRANGULAR', 'IGREJA DEUS É AMOR',\n",
              "       'ADVENTISTA DO SÉTIMO DIA', 'CONGREGAÇÃO CRISTÃ NO BRASIL',\n",
              "       'ASSEMBLEIA DE DEUS', 'OUTROS PENTECOSTAIS/NEOPENTECOSTAIS',\n",
              "       'SEM RELIGIÃO', 'PRESBITERIANA', 'OUTRAS RELIGIÕES', 'BATISTA',\n",
              "       'CATÓLICA ORTODOXA', 'CANDOMBLÉ', 'BUDISMO', 'UMBANDA', 'LUTERANA',\n",
              "       'UNIVERSAL DO REINO DE DEUS', 'TESTEMUNHAS DE JEOVÁ', 'MESSIÂNICA',\n",
              "       'OUTRAS DE MATRIZ AFRICANA', 'BAHAÍSMO', 'JUDAÍSMO', 'METODISTA',\n",
              "       'TAOÍSMO', 'MÓRMONS', 'SEICHO-NO-IÊ', 'ISLAMISMO', 'HARE',\n",
              "       'CRENÇAS INDÍGENAS', 'HINDUÍSMO', 'XINTOÍSMO', 'KRISHNA',\n",
              "       'UMBANDA E CANDOMBLÉ'], dtype=object)"
            ]
          },
          "execution_count": 13,
          "metadata": {},
          "output_type": "execute_result"
        }
      ],
      "source": [
        "historico_denuncias_bruto['Religião da vítima'].unique()"
      ]
    },
    {
      "cell_type": "markdown",
      "metadata": {
        "id": "zdVsRO_lROwc"
      },
      "source": [
        "Como conferimos, há mais religiões sendo puxadas do que a que pretendemos tratar. Aqui, vamos isolar os casos que realmente envolvem religiões de matriz afro, nosso foco. Esse filtro garante que as análises sejam direcionadas para entender o cenário específico das religiões afro-brasileiras."
      ]
    },
    {
      "cell_type": "code",
      "execution_count": 14,
      "metadata": {
        "colab": {
          "base_uri": "https://localhost:8080/"
        },
        "id": "UAEoMrAF2Ti4",
        "outputId": "d0c0815d-9d3f-45a4-ce3e-1b648725ead7"
      },
      "outputs": [
        {
          "data": {
            "text/plain": [
              "array([nan, 'CANDOMBLÉ', 'UMBANDA', 'OUTRAS DE MATRIZ AFRICANA',\n",
              "       'UMBANDA E CANDOMBLÉ'], dtype=object)"
            ]
          },
          "execution_count": 14,
          "metadata": {},
          "output_type": "execute_result"
        }
      ],
      "source": [
        "historico_denuncias = historico_denuncias_bruto.loc[~historico_denuncias_bruto['Religião da vítima'].isin(['ESPIRITISMO', 'BATISTA', 'N/D', 'CATÓLICA APOSTÓLICA ROMANA','EVANGELHO QUADRANGULAR', 'IGREJA DEUS É AMOR','ADVENTISTA DO SÉTIMO DIA', 'CONGREGAÇÃO CRISTÃ NO BRASIL','ASSEMBLEIA DE DEUS', 'OUTROS PENTECOSTAIS/NEOPENTECOSTAIS','SEM RELIGIÃO', 'PRESBITERIANA', 'OUTRAS RELIGIÕES', 'BATISTA','CATÓLICA ORTODOXA','BUDISMO', 'LUTERANA', 'UNIVERSAL DO REINO DE DEUS', 'TESTEMUNHAS DE JEOVÁ', 'MESSIÂNICA', 'BAHAÍSMO', 'JUDAÍSMO', 'METODISTA', 'TAOÍSMO', 'MÓRMONS', 'SEICHO-NO-IÊ', 'ISLAMISMO', 'HARE',  'CRENÇAS INDÍGENAS', 'HINDUÍSMO', 'XINTOÍSMO', 'KRISHNA'])]\n",
        "historico_denuncias['Religião da vítima'].unique()"
      ]
    },
    {
      "cell_type": "markdown",
      "metadata": {
        "id": "pmH64ptn6DN7"
      },
      "source": [
        "Em seguida, visualizamos os dados faltantes (vazios) em cada coluna, ordenando para facilitar a análise. Aqui vemos se há dados faltantes em algumas colunas. Isso é importante porque, ao fazer análises, dados faltantes podem distorcer os resultados, e precisamos entender o que pode ser feito (como remover ou tratar esses valores)."
      ]
    },
    {
      "cell_type": "code",
      "execution_count": 17,
      "metadata": {
        "colab": {
          "base_uri": "https://localhost:8080/",
          "height": 458
        },
        "id": "HxEARZ4OdIKv",
        "outputId": "fd6ea2d4-cb92-4247-926c-f948e9eee67f"
      },
      "outputs": [
        {
          "data": {
            "text/html": [
              "<div>\n",
              "<style scoped>\n",
              "    .dataframe tbody tr th:only-of-type {\n",
              "        vertical-align: middle;\n",
              "    }\n",
              "\n",
              "    .dataframe tbody tr th {\n",
              "        vertical-align: top;\n",
              "    }\n",
              "\n",
              "    .dataframe thead th {\n",
              "        text-align: right;\n",
              "    }\n",
              "</style>\n",
              "<table border=\"1\" class=\"dataframe\">\n",
              "  <thead>\n",
              "    <tr style=\"text-align: right;\">\n",
              "      <th></th>\n",
              "      <th>0</th>\n",
              "    </tr>\n",
              "  </thead>\n",
              "  <tbody>\n",
              "    <tr>\n",
              "      <th>ano</th>\n",
              "      <td>0</td>\n",
              "    </tr>\n",
              "    <tr>\n",
              "      <th>Denunciante</th>\n",
              "      <td>303</td>\n",
              "    </tr>\n",
              "    <tr>\n",
              "      <th>UF</th>\n",
              "      <td>1514</td>\n",
              "    </tr>\n",
              "    <tr>\n",
              "      <th>Município</th>\n",
              "      <td>2168</td>\n",
              "    </tr>\n",
              "    <tr>\n",
              "      <th>Canal_de_atendimento</th>\n",
              "      <td>8474</td>\n",
              "    </tr>\n",
              "    <tr>\n",
              "      <th>...</th>\n",
              "      <td>...</td>\n",
              "    </tr>\n",
              "    <tr>\n",
              "      <th>Vínculo Órgão\\PJ do suspeito</th>\n",
              "      <td>2458275</td>\n",
              "    </tr>\n",
              "    <tr>\n",
              "      <th>Deficiência_relacionada_a_doença_rara</th>\n",
              "      <td>2458376</td>\n",
              "    </tr>\n",
              "    <tr>\n",
              "      <th>Deficiência_relacionada_a_doença_rara_suspeito</th>\n",
              "      <td>2458379</td>\n",
              "    </tr>\n",
              "    <tr>\n",
              "      <th>Grau_de_instrução_do_suspeito</th>\n",
              "      <td>2458393</td>\n",
              "    </tr>\n",
              "    <tr>\n",
              "      <th>Vínculo_Órgão_PJ_do_suspeito</th>\n",
              "      <td>2458396</td>\n",
              "    </tr>\n",
              "  </tbody>\n",
              "</table>\n",
              "<p>128 rows × 1 columns</p>\n",
              "</div><br><label><b>dtype:</b> int64</label>"
            ],
            "text/plain": [
              "ano                                                     0\n",
              "Denunciante                                           303\n",
              "UF                                                   1514\n",
              "Município                                            2168\n",
              "Canal_de_atendimento                                 8474\n",
              "                                                   ...   \n",
              "Vínculo Órgão\\PJ do suspeito                      2458275\n",
              "Deficiência_relacionada_a_doença_rara             2458376\n",
              "Deficiência_relacionada_a_doença_rara_suspeito    2458379\n",
              "Grau_de_instrução_do_suspeito                     2458393\n",
              "Vínculo_Órgão_PJ_do_suspeito                      2458396\n",
              "Length: 128, dtype: int64"
            ]
          },
          "execution_count": 17,
          "metadata": {},
          "output_type": "execute_result"
        }
      ],
      "source": [
        "historico_denuncias.isnull().sum().sort_values(ascending=True)"
      ]
    },
    {
      "cell_type": "markdown",
      "metadata": {
        "id": "2LKOyTaT4WGi"
      },
      "source": [
        "As colunas selecionadas são as que vão nos ajudar a responder perguntas-chave do projeto, como:\n",
        "- Como a quantidade de denúncias variou ao longo dos anos?;\n",
        "- Quais estados apresentam a maior quantidade de denúncias?;\n",
        "- Qual o perfil demográfico das vítimas?;\n",
        "\n",
        "Após conferir quais as colunas disponíveis, separamos aquelas que poderiam responder às perguntas, como é possível ver em seguida:\n",
        "\n",
        "*   Coluna selecionadas para a pergunta 1 = Data_de_cadastro;\n",
        "*   Colunas selecionadas para a pergunta 2 = UF, Município;\n",
        "* Colunas selecionadas para a pergunta 3  = Gênero_da_vítima, Faixa_etária_da_vítima, Raça_Cor_da_vítima.\n"
      ]
    },
    {
      "cell_type": "markdown",
      "metadata": {
        "id": "7TUx4fZoRm3h"
      },
      "source": [
        "#**Pergunta 1: Como a quantidade de denúncias variou ao longo dos anos?**\n",
        "Agora vamos analisar a quantidade de denúncias por ano. Isso vai nos ajudar a identificar tendências. Será que as denúncias aumentaram ou diminuíram com o passar dos anos?"
      ]
    },
    {
      "cell_type": "code",
      "execution_count": 18,
      "metadata": {
        "colab": {
          "base_uri": "https://localhost:8080/"
        },
        "id": "kREGj3zBoC1Z",
        "outputId": "b5b95068-6fe9-4e8b-a4f7-8aa1ebb070ce"
      },
      "outputs": [
        {
          "name": "stdout",
          "output_type": "stream",
          "text": [
            "    ano  Quantidade de Denúncias\n",
            "0  2020                   138440\n",
            "1  2021                     4054\n",
            "2  2022                   941829\n",
            "3  2023                  1374073\n"
          ]
        }
      ],
      "source": [
        "denuncias_por_ano = historico_denuncias.groupby('ano').size().reset_index(name='Quantidade de Denúncias')\n",
        "print(denuncias_por_ano)"
      ]
    },
    {
      "cell_type": "markdown",
      "metadata": {
        "id": "iQ7mkLzxR4fY"
      },
      "source": [
        "Analisando a variação por ano, conseguimos ver se o problema de perseguição às religiões afro-brasileiras está piorando ou se as políticas públicas e a conscientização da sociedade estão tendo algum efeito positivo.\n"
      ]
    },
    {
      "cell_type": "code",
      "execution_count": 19,
      "metadata": {
        "colab": {
          "base_uri": "https://localhost:8080/"
        },
        "id": "l4DjaxlS2rhf",
        "outputId": "7cfa4f8b-85c4-4eb4-c4d6-ad58229e94cd"
      },
      "outputs": [
        {
          "name": "stdout",
          "output_type": "stream",
          "text": [
            "Variáveis definidas no escopo global:\n",
            "dict_keys(['__name__', '__doc__', '__package__', '__loader__', '__spec__', '__builtin__', '__builtins__', '_ih', '_oh', '_dh', 'In', 'Out', 'get_ipython', 'exit', 'quit', '_', '__', '___', '_i', '_ii', '_iii', '_i1', '_exit_code', '_i2', '_i3', '_i4', 'plt', 'pd', 're', 'drive', 'files', '_i5', 'caminho_2020_1', 'caminho_2020_2', 'caminho_2021_1', 'caminho_2021_2', 'caminho_2022_1', 'caminho_2022_2', 'caminho_2023_1', 'caminho_2023_2', 'primeiro_semestre_2020', 'segundo_semestre_2020', 'primeiro_semestre_2021', 'segundo_semestre_2021', 'primeiro_semestre_2022', 'segundo_semestre_2022', 'primeiro_semestre_2023', 'segundo_semestre_2023', '_i6', '_i7', '_i8', '_i9', '_i10', '_i11', '_i12', '_i13', '_i14', 'historico_denuncias_bruto', '_14', '_i15', '_15', '_i16', 'historico_denuncias', '_16', '_i17', '_17', '_i18', 'denuncias_por_ano', '_i19'])\n"
          ]
        }
      ],
      "source": [
        "print(\"Variáveis definidas no escopo global:\")\n",
        "print(globals().keys())"
      ]
    },
    {
      "cell_type": "code",
      "execution_count": 20,
      "metadata": {
        "colab": {
          "base_uri": "https://localhost:8080/"
        },
        "id": "VKU_7wmC38Yn",
        "outputId": "21ed9344-4511-44d8-9581-dccac61fbcbd"
      },
      "outputs": [
        {
          "name": "stdout",
          "output_type": "stream",
          "text": [
            "    ano  Quantidade de Denúncias\n",
            "0  2020                   138440\n",
            "1  2021                     4054\n",
            "2  2022                   941829\n",
            "3  2023                  1374073\n"
          ]
        }
      ],
      "source": [
        "print(denuncias_por_ano)"
      ]
    },
    {
      "cell_type": "markdown",
      "metadata": {
        "id": "BWDCK2sCHf6w"
      },
      "source": [
        "Transformamos em csv para fazer o projeto no Tableau."
      ]
    },
    {
      "cell_type": "code",
      "execution_count": null,
      "metadata": {
        "id": "ML2fn3Sp4FEo"
      },
      "outputs": [],
      "source": [
        "denuncias_por_ano.to_csv('denuncias_por_ano.csv', index=False)"
      ]
    },
    {
      "cell_type": "markdown",
      "metadata": {
        "id": "b9swKkxU3RuX"
      },
      "source": [
        "# **Pergunta 2: Quais estados apresentam a maior quantidade de denúncias?**\n",
        "Verificamos onde a maior parte das denúncias está acontecendo. Isso nos ajuda a entender se há uma concentração geográfica de perseguição religiosa e, se sim, onde seria importante focar esforços de combate à intolerância."
      ]
    },
    {
      "cell_type": "code",
      "execution_count": null,
      "metadata": {
        "colab": {
          "base_uri": "https://localhost:8080/"
        },
        "id": "lmIobXh23Zdz",
        "outputId": "2cb7a5e6-cc1c-43c3-b2c0-aa5981c7b4b0"
      },
      "outputs": [
        {
          "name": "stdout",
          "output_type": "stream",
          "text": [
            "['MA' 'SP' 'PA' 'PE' 'MG' 'CE' 'BA' 'RJ' 'RS' 'SC' 'ES' 'PI' 'PR' 'DF'\n",
            " 'GO' 'AL' 'AM' 'RN' 'RO' 'AC' 'MS' 'PB' 'AP' 'MT' 'RR' 'SE' 'N/D' 'TO'\n",
            " 'DENUNCIANTE NÃO SOUBE INFORMAR' nan 'ATENDIMENTO INTERROMPIDO']\n"
          ]
        }
      ],
      "source": [
        "print(historico_denuncias['UF'].unique())"
      ]
    },
    {
      "cell_type": "markdown",
      "metadata": {
        "id": "b-u0jtVDSawd"
      },
      "source": [
        "Ordenamos os estados pelo número de denúncias em ordem decrescente, exibimos os resultados, e criamos gráfico de barras mostrando as denúncias por estado. Este gráfico nos dará uma visão visual clara de quais estados precisam de mais atenção em relação às denúncias de perseguição religiosa."
      ]
    },
    {
      "cell_type": "code",
      "execution_count": null,
      "metadata": {
        "colab": {
          "base_uri": "https://localhost:8080/",
          "height": 1000
        },
        "id": "AJzitFXtpK5F",
        "outputId": "bf6fef70-ded1-4bd0-b0f4-346abf4fb0b4"
      },
      "outputs": [
        {
          "name": "stdout",
          "output_type": "stream",
          "text": [
            "Tabela com as regiões com mais denúncias (do maior para o menor):\n",
            "                                UF  Quantidade de Denúncias\n",
            "0                               SP                   659714\n",
            "1                               RJ                   331437\n",
            "2                               MG                   273123\n",
            "3                               RS                   142206\n",
            "4                               BA                   113865\n",
            "5                               PR                    94855\n",
            "6                               PE                    92130\n",
            "7                               SC                    85059\n",
            "8                               CE                    80790\n",
            "9                               GO                    65320\n",
            "10                              DF                    51883\n",
            "11                              RN                    49810\n",
            "12                              AM                    47947\n",
            "13                              ES                    47658\n",
            "14                              PA                    43875\n",
            "15                              MA                    42120\n",
            "16                              MS                    37710\n",
            "17                              PB                    34863\n",
            "18                              PI                    30837\n",
            "19                              AL                    30434\n",
            "20                              SE                    25021\n",
            "21                              MT                    18333\n",
            "22  DENUNCIANTE NÃO SOUBE INFORMAR                    17785\n",
            "23                              RO                    12787\n",
            "24                              TO                    11036\n",
            "25                              AC                     6402\n",
            "26                              AP                     4296\n",
            "27                              RR                     3446\n",
            "28        ATENDIMENTO INTERROMPIDO                      926\n",
            "29                             N/D                      475\n"
          ]
        },
        {
          "data": {
            "image/png": "[encoded data removed]",
            "text/plain": [
              "<Figure size 1000x600 with 1 Axes>"
            ]
          },
          "metadata": {},
          "output_type": "display_data"
        }
      ],
      "source": [
        "denuncias_por_uf = historico_denuncias.dropna(subset=['UF', 'Município'])['UF'].value_counts().reset_index()\n",
        "\n",
        "denuncias_por_uf.columns = ['UF', 'Quantidade de Denúncias']\n",
        "\n",
        "denuncias_por_uf = denuncias_por_uf.sort_values(by='Quantidade de Denúncias', ascending=False)\n",
        "\n",
        "print(\"Tabela com as regiões com mais denúncias (do maior para o menor):\")\n",
        "print(denuncias_por_uf)\n",
        "\n",
        "plt.figure(figsize=(10, 6))\n",
        "plt.bar(denuncias_por_uf['UF'], denuncias_por_uf['Quantidade de Denúncias'], color='skyblue')\n",
        "plt.title('Quantidade de Denúncias por UF (do maior para o menor)')\n",
        "plt.xlabel('UF')\n",
        "plt.ylabel('Quantidade de Denúncias')\n",
        "plt.xticks(rotation=45)\n",
        "plt.show()"
      ]
    },
    {
      "cell_type": "markdown",
      "metadata": {
        "id": "y736LgmmHpRa"
      },
      "source": [
        "Transformamos em csv para fazer o projeto no Tableau."
      ]
    },
    {
      "cell_type": "code",
      "execution_count": null,
      "metadata": {
        "id": "09-f-Lxr42Sg"
      },
      "outputs": [],
      "source": [
        "denuncias_por_uf.to_csv('denuncias_por_uf.csv', index=False)"
      ]
    },
    {
      "cell_type": "markdown",
      "metadata": {
        "id": "Ch3SDKX_SwgL"
      },
      "source": [
        "Esse gráfico pode revelar estados específicos onde há uma maior intolerância religiosa contra religiões afro-brasileiras, indicando áreas para campanhas de conscientização e ação pública.\n"
      ]
    },
    {
      "cell_type": "markdown",
      "metadata": {
        "id": "TJpok2Rc6pfQ"
      },
      "source": [
        "# **Pergunta 3: Qual é o perfil demográfico das vítimas?? Existe alguma tendência?**\n",
        "Em seguida, olhamos para o perfil das vítimas: idade, gênero e raça e plotamos seus gráficos. Isso nos dá uma ideia de quais grupos estão mais vulneráveis."
      ]
    },
    {
      "cell_type": "code",
      "execution_count": 15,
      "metadata": {
        "id": "XkivKsOnW5Y8"
      },
      "outputs": [],
      "source": [
        "historico_denuncias_demografia = historico_denuncias.dropna(subset=['Gênero_da_vítima', 'Faixa_etária_da_vítima', 'Raça_Cor_da_vítima'])"
      ]
    },
    {
      "cell_type": "code",
      "execution_count": 23,
      "metadata": {
        "colab": {
          "base_uri": "https://localhost:8080/",
          "height": 912
        },
        "id": "CK45VzeIW80K",
        "outputId": "dd409e92-fa6a-4e65-e239-020e5e1b7f88"
      },
      "outputs": [
        {
          "name": "stdout",
          "output_type": "stream",
          "text": [
            "Denúncias por gênero:\n",
            "                            Gênero_da_vítima  Quantidade de Denúncias\n",
            "0                                   FEMININO                  1238512\n",
            "1                                  MASCULINO                   794040\n",
            "2  NÃO SE APLICA - VÍTIMA COMUNIDADE/FAMÍLIA                    93576\n",
            "3                              NÃO INFORMADO                    35891\n",
            "4                                  INTERSEXO                     1619\n"
          ]
        },
        {
          "data": {
            "image/png": "[encoded data removed]",
            "text/plain": [
              "<Figure size 640x480 with 1 Axes>"
            ]
          },
          "metadata": {},
          "output_type": "display_data"
        }
      ],
      "source": [
        "denuncias_por_genero = historico_denuncias_demografia['Gênero_da_vítima'].value_counts().reset_index()\n",
        "denuncias_por_genero.columns = ['Gênero_da_vítima', 'Quantidade de Denúncias']\n",
        "\n",
        "print(\"Denúncias por gênero:\")\n",
        "print(denuncias_por_genero)\n",
        "\n",
        "denuncias_por_genero.plot(kind='bar', x='Gênero_da_vítima', y='Quantidade de Denúncias', legend=False, color='skyblue')\n",
        "plt.title('Denúncias por Gênero')\n",
        "plt.ylabel('Quantidade de Denúncias')\n",
        "plt.xlabel('Gênero')\n",
        "plt.show()\n",
        "\n"
      ]
    },
    {
      "cell_type": "code",
      "execution_count": null,
      "metadata": {
        "id": "R4gJhbGEXFe3"
      },
      "outputs": [],
      "source": [
        "def categorizar_faixa_etaria(faixa):\n",
        "    faixa = str(faixa).lower()\n",
        "    faixa = re.sub(r'[^\\d\\s]', '', faixa)\n",
        "\n",
        "    if 'a' in faixa:\n",
        "        limites = faixa.split()\n",
        "        return int(limites[0]) if limites[0].isdigit() else 0\n",
        "    elif 'ou mais' in faixa or 'mais' in faixa:\n",
        "        return 80\n",
        "    else:\n",
        "        numeros = re.findall(r'\\d+', faixa)\n",
        "        return int(numeros[0]) if numeros else 0\n",
        "\n",
        "historico_denuncias_demografia_copy = historico_denuncias_demografia.copy()\n",
        "\n",
        "historico_denuncias_demografia_copy['Faixa_num'] = historico_denuncias_demografia_copy['Faixa_etária_da_vítima'].apply(categorizar_faixa_etaria)\n",
        "\n",
        "historico_denuncias_demografia_copy['Faixa Etária Agrupada'] = pd.cut(historico_denuncias_demografia_copy['Faixa_num'],\n",
        "                                                                       bins=range(0, 91, 10),\n",
        "                                                                       right=False,\n",
        "                                                                       labels=['0-9', '10-19', '20-29', '30-39', '40-49', '50-59', '60-69', '70-79', '80+'])\n",
        "\n",
        "denuncias_por_faixa_etaria = historico_denuncias_demografia_copy['Faixa Etária Agrupada'].value_counts().reset_index()\n",
        "denuncias_por_faixa_etaria.columns = ['Faixa Etária', 'Quantidade de Denúncias']\n",
        "denuncias_por_faixa_etaria = denuncias_por_faixa_etaria.sort_values(by='Faixa Etária')\n",
        "\n",
        "print(\"Denúncias por faixa etária:\")\n",
        "print(denuncias_por_faixa_etaria)\n",
        "\n",
        "\n"
      ]
    },
    {
      "cell_type": "code",
      "execution_count": null,
      "metadata": {
        "id": "73M3E11XPv_3"
      },
      "outputs": [],
      "source": [
        "denuncias_por_faixa_etaria.plot(kind='bar', x='Faixa Etária', y='Quantidade de Denúncias', legend=False, color='lightgreen')\n",
        "plt.title('Denúncias por Faixa Etária')\n",
        "plt.ylabel('Quantidade de Denúncias')\n",
        "plt.xlabel('Faixa Etária')\n",
        "plt.show()"
      ]
    },
    {
      "cell_type": "code",
      "execution_count": null,
      "metadata": {
        "colab": {
          "base_uri": "https://localhost:8080/",
          "height": 238
        },
        "id": "JKLv70IBhVle",
        "outputId": "fef8f53e-e457-4f77-cc3c-4844a9d14b19"
      },
      "outputs": [
        {
          "ename": "NameError",
          "evalue": "name 'historico_denuncias_demografia' is not defined",
          "output_type": "error",
          "traceback": [
            "\u001b[0;31m---------------------------------------------------------------------------\u001b[0m",
            "\u001b[0;31mNameError\u001b[0m                                 Traceback (most recent call last)",
            "\u001b[0;32m<ipython-input-1-3d54e5b7415e>\u001b[0m in \u001b[0;36m<cell line: 1>\u001b[0;34m()\u001b[0m\n\u001b[0;32m----> 1\u001b[0;31m \u001b[0mdenuncias_por_raca\u001b[0m \u001b[0;34m=\u001b[0m \u001b[0mhistorico_denuncias_demografia\u001b[0m\u001b[0;34m[\u001b[0m\u001b[0;34m'Raça_Cor_da_vítima'\u001b[0m\u001b[0;34m]\u001b[0m\u001b[0;34m.\u001b[0m\u001b[0mvalue_counts\u001b[0m\u001b[0;34m(\u001b[0m\u001b[0;34m)\u001b[0m\u001b[0;34m.\u001b[0m\u001b[0mreset_index\u001b[0m\u001b[0;34m(\u001b[0m\u001b[0;34m)\u001b[0m\u001b[0;34m\u001b[0m\u001b[0;34m\u001b[0m\u001b[0m\n\u001b[0m\u001b[1;32m      2\u001b[0m \u001b[0mdenuncias_por_raca\u001b[0m\u001b[0;34m.\u001b[0m\u001b[0mcolumns\u001b[0m \u001b[0;34m=\u001b[0m \u001b[0;34m[\u001b[0m\u001b[0;34m'Raça/Cor'\u001b[0m\u001b[0;34m,\u001b[0m \u001b[0;34m'Quantidade de Denúncias'\u001b[0m\u001b[0;34m]\u001b[0m\u001b[0;34m\u001b[0m\u001b[0;34m\u001b[0m\u001b[0m\n\u001b[1;32m      3\u001b[0m \u001b[0;34m\u001b[0m\u001b[0m\n\u001b[1;32m      4\u001b[0m \u001b[0mprint\u001b[0m\u001b[0;34m(\u001b[0m\u001b[0;34m\"Denúncias por raça/cor:\"\u001b[0m\u001b[0;34m)\u001b[0m\u001b[0;34m\u001b[0m\u001b[0;34m\u001b[0m\u001b[0m\n\u001b[1;32m      5\u001b[0m \u001b[0mprint\u001b[0m\u001b[0;34m(\u001b[0m\u001b[0mdenuncias_por_raca\u001b[0m\u001b[0;34m)\u001b[0m\u001b[0;34m\u001b[0m\u001b[0;34m\u001b[0m\u001b[0m\n",
            "\u001b[0;31mNameError\u001b[0m: name 'historico_denuncias_demografia' is not defined"
          ]
        }
      ],
      "source": [
        "denuncias_por_raca = historico_denuncias_demografia['Raça_Cor_da_vítima'].value_counts().reset_index()\n",
        "denuncias_por_raca.columns = ['Raça/Cor', 'Quantidade de Denúncias']\n",
        "\n",
        "print(\"Denúncias por raça/cor:\")\n",
        "print(denuncias_por_raca)\n",
        "\n",
        "denuncias_por_raca.plot(kind='bar', x='Raça/Cor', y='Quantidade de Denúncias', legend=False, color='lightcoral')\n",
        "plt.title('Denúncias por Raça/Cor')\n",
        "plt.ylabel('Quantidade de Denúncias')\n",
        "plt.xlabel('Raça/Cor')\n",
        "plt.xticks(rotation=45)\n",
        "plt.show()\n"
      ]
    },
    {
      "cell_type": "markdown",
      "metadata": {
        "id": "I83Ezsp3TO8f"
      },
      "source": [
        "Ao entender o perfil das vítimas, conseguimos identificar quais grupos estão mais expostos à violência religiosa, permitindo ações mais direcionadas e campanhas de apoio específicas."
      ]
    },
    {
      "cell_type": "markdown",
      "metadata": {
        "id": "2V-xJ-Z-HzuX"
      },
      "source": [
        "Ao fim, transformamos em csv para fazer o projeto no Tableau."
      ]
    },
    {
      "cell_type": "code",
      "execution_count": null,
      "metadata": {
        "id": "FzlPBkXYfpVU"
      },
      "outputs": [],
      "source": [
        "denuncias_por_genero.to_csv('/content/denuncias_por_genero.csv', index=False)\n",
        "denuncias_por_faixa_etaria.to_csv('/content/denuncias_por_faixa_etaria.csv', index=False)\n",
        "denuncias_por_raca.to_csv('/content/denuncias_por_raca.csv', index=False)\n",
        "\n",
        "files.download('/content/denuncias_por_genero.csv')\n",
        "files.download('/content/denuncias_por_faixa_etaria.csv')\n",
        "files.download('/content/denuncias_por_raca.csv')\n",
        "\n"
      ]
    },
    {
      "cell_type": "code",
      "execution_count": null,
      "metadata": {
        "id": "KGRaYGQkH7Fo"
      },
      "outputs": [],
      "source": []
    },
    {
      "cell_type": "code",
      "execution_count": 13,
      "metadata": {
        "colab": {
          "base_uri": "https://localhost:8080/"
        },
        "id": "uLck1I-vK_4n",
        "outputId": "65e04a81-01da-4a0e-b4e9-46bfabe651e1"
      },
      "outputs": [
        {
          "name": "stdout",
          "output_type": "stream",
          "text": [
            "On branch main\n",
            "Your branch is up to date with 'origin/main'.\n",
            "\n",
            "nothing to commit, working tree clean\n"
          ]
        }
      ],
      "source": [
        "!git commit -m \"projeto final\""
      ]
    },
    {
      "cell_type": "code",
      "execution_count": 14,
      "metadata": {
        "colab": {
          "base_uri": "https://localhost:8080/"
        },
        "id": "tRRnQDk-LJtn",
        "outputId": "f09fdbdb-4acc-4def-eb39-ecd9820c6c1f"
      },
      "outputs": [
        {
          "name": "stderr",
          "output_type": "stream",
          "text": [
            "Everything up-to-date\n"
          ]
        }
      ],
      "source": [
        "!git push origin main"
      ]
    }
  ],
  "metadata": {
    "colab": {
      "provenance": []
    },
    "kernelspec": {
      "display_name": "Python 3",
      "name": "python3"
    },
    "language_info": {
      "codemirror_mode": {
        "name": "ipython",
        "version": 3
      },
      "file_extension": ".py",
      "mimetype": "text/x-python",
      "name": "python",
      "nbconvert_exporter": "python",
      "pygments_lexer": "ipython3",
      "version": "3.11.7"
    }
  },
  "nbformat": 4,
  "nbformat_minor": 0
}
